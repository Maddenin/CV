{
 "cells": [
  {
   "cell_type": "markdown",
   "id": "ambient-planner",
   "metadata": {},
   "source": [
    "You are tasked with developing a movie recommendation system. You are given a list of movies (their names) and a list of similarities between movies (pairs of movies that are similar). You are also given a list of user's friends and for each friend a list of movies that he has already seen.\n",
    "\n",
    "Your system should recommend one movie with the highest discussability and uniqueness. Discussability is the number of friends of user, who have already seen that movie. Uniqueness is 1 divided by the mean number of similar movies that the user's friends have already seen. So you should return the film with the highest number: F / S, where F = number of friends who have seen this movie, and S = mean of the number of similar movies seen for each friend."
   ]
  },
  {
   "cell_type": "code",
   "execution_count": 8,
   "id": "rocky-ceiling",
   "metadata": {},
   "outputs": [],
   "source": [
    "### Test №1\n",
    "### https://www.coursera.org/learn/algdata2/discussions/weeks/6/threads/LODjGJJAEeuw1Q42CpJ9yQ\n",
    "\n",
    "movies = [\"Parasite\",\"1917\",\"Ford v Ferrari\",\"Jojo Rabbit\",\"Joker\"]\n",
    "\n",
    "similarities = [[\"Parasite\", \"1917\"],\n",
    "                [\"Parasite\", \"Jojo Rabbit\"],\n",
    "                [\"Joker\", \"Ford v Ferrari\"]]\n",
    "### 1917 <-> Parasite <-> Jojo Rabbit\n",
    "\n",
    "friends = [[\"Joker\"],\n",
    "            [\"Joker\",\"1917\"],\n",
    "            [\"Joker\"],\n",
    "            [\"Parasite\"],\n",
    "            [\"1917\"],\n",
    "            [\"Jojo Rabbit\", \"Joker\"]]\n",
    "\n",
    "### Answer is \"1917\""
   ]
  },
  {
   "cell_type": "code",
   "execution_count": 2,
   "id": "wrong-henry",
   "metadata": {},
   "outputs": [],
   "source": [
    "### Test №2\n",
    "movies = {'Group0_1', 'Group0_2', 'Group0_3', 'Group2_2', 'Group1_1',\n",
    "          'Group2_1','Group0_4', 'Group1_3', 'Group0_5', 'Group1_2'}\n",
    "\n",
    "similarities = [[\"Group0_1\", \"Group0_2\"],\n",
    "                [\"Group0_2\", \"Group0_3\"],\n",
    "                [\"Group1_1\", \"Group1_2\"],\n",
    "                [\"Group0_3\", \"Group0_4\"],\n",
    "               [\"Group0_5\", \"Group0_4\"],\n",
    "               [\"Group1_2\", \"Group1_3\"],\n",
    "               [\"Group2_1\", \"Group2_2\"]]\n",
    "\n",
    "friends = [['Group0_2', 'Group0_3'],\n",
    "            ['Group0_4', 'Group1_3', 'Group0_5', 'Group1_2'],\n",
    "            ['Group0_2', 'Group1_2'],\n",
    "            ['Group0_3', 'Group2_2', 'Group1_1', 'Group1_3'],\n",
    "            ['Group0_1', 'Group0_3', 'Group1_1', 'Group1_2', 'Group0_4'],\n",
    "            ['Group2_1','Group0_4']]\n",
    "\n",
    "### Answer is \"Group0_3\" or \"Group0_4\""
   ]
  },
  {
   "cell_type": "code",
   "execution_count": 6,
   "id": "nasty-content",
   "metadata": {},
   "outputs": [],
   "source": [
    "### Test №3\n",
    "movies = ['The Pianist', 'Inglourious Basterds', 'The Shawshank Redemption', 'The Godfather', 'Parasite',\n",
    "          'The Dark Knight', 'Interstellar', 'Inception', 'Forrest Gump', 'City of God',\n",
    "    'The Good, the Bad and the Ugly', 'Gone Girl', 'Se7en', 'The Game']\n",
    "\n",
    "similarities = [['The Pianist', 'Inglourious Basterds'],\n",
    "                ['Inglourious Basterds', 'The Shawshank Redemption'],\n",
    "                ['The Shawshank Redemption', 'City of God'],\n",
    "                ['The Godfather', 'Parasite'],\n",
    "                ['Parasite', 'The Dark Knight'],\n",
    "                ['The Dark Knight', 'Interstellar'],\n",
    "                ['Interstellar', 'Inception'],\n",
    "                ['Forrest Gump', 'City of God'],\n",
    "                ['City of God', 'The Good, the Bad and the Ugly'],\n",
    "                ['The Good, the Bad and the Ugly', 'Inglourious Basterds'],\n",
    "                ['The Shawshank Redemption', 'Inglourious Basterds'],\n",
    "                ['The Pianist', 'The Shawshank Redemption'],\n",
    "                ['Gone Girl', 'Se7en'],\n",
    "                ['Se7en', 'The Game']]\n",
    "\n",
    "friends = [['Gone Girl', 'Se7en'],\n",
    "           ['City of God', 'The Shawshank Redemption', 'Inglourious Basterds', 'Forrest Gump'],\n",
    "           ['The Godfather', 'The Dark Knight', 'Parasite', 'The Pianist', 'Inception'],\n",
    "           ['The Game', 'Se7en', 'The Good, the Bad and the Ugly', 'The Godfather', 'The Dark Knight', 'Forrest Gump']\n",
    "          ]\n",
    "\n",
    "### Answer is \"The Godfather\" or \"The Dark Knight\" or \"Forrest Gump\" or \"Se7en\""
   ]
  },
  {
   "cell_type": "markdown",
   "id": "approximate-start",
   "metadata": {},
   "source": [
    "First of all, let's divide the task into logical parts:\n",
    "\n",
    "1) We must calculate Discussability (\"F\"). It is easy, we could use Counter from collections library, or use dict\\defaultdict  with for loop.\n",
    "\n",
    "I have used Counter with two nested loops (by friends list and movies list).\n",
    "\n",
    "2) Then we must calculate Uniqueness (\"S\") - it is the mean number of similar movies that the user's friends have already seen. And we have the problem here as movies similarity have transitive property. So we need somehow to compute all similar movies.\n",
    "\n",
    "As I can imagine there are two approaches to solve it:\n",
    "* Use DFS to similarities graph traversal\n",
    "* Use similarities sets: {'Parasite', '1917', 'Jojo Rabbit'}, {'Joker', 'Ford v Ferrari'}\n",
    "or similarities dict: {'Parasite': 0, '1917': 0, 'Jojo Rabbit': 0, 'Joker': 1, 'Ford v Ferrari': 1}\n",
    "for grouping similar movies.\n",
    "\n",
    "I have chosen to group similar movies into the similarities dictionary by iteration over the similarities pairs in the list in for loop. And if any movie in the pair is already in similarities dict as key - we add another movie to the similarities dict keys with the same group number as his partner has in key. Otherwise, we create both dict keys with the next group number.\n",
    "\n",
    "3) Then we should calculate \"S\" itself by summing up views (Discussability) of all similar films and dividing the sum by the number of all similar films for each movie in our database (list 'movies'). \n",
    "\n",
    "3.1) We must take into consideration the case when we need to divide by 0 - it will be 0, not infinity.\n",
    "\n",
    "3.2) At the end we must print only one movies' name - the movie with maximum F\\S. If there is a situation when we have several movies with the same F\\S - the maximum function will deal with it. It will choose the first one in the direction of the passes.\n",
    "\n",
    "And that's all."
   ]
  },
  {
   "cell_type": "code",
   "execution_count": 10,
   "id": "graduate-snapshot",
   "metadata": {
    "scrolled": true
   },
   "outputs": [
    {
     "name": "stdout",
     "output_type": "stream",
     "text": [
      "We recommend you this movie: 1917\n"
     ]
    },
    {
     "name": "stderr",
     "output_type": "stream",
     "text": [
      "discussability: Counter({'Joker': 4, '1917': 2, 'Parasite': 1, 'Jojo Rabbit': 1})\n",
      "\n",
      "sim_dict: {'Parasite': 0, '1917': 0, 'Jojo Rabbit': 0, 'Joker': 1, 'Ford v Ferrari': 1}\n",
      "\n",
      "watched_sim_count: {'Parasite': 0.6666666666666666, '1917': 2.0, 'Ford v Ferrari': 0.0, 'Jojo Rabbit': 0.6666666666666666, 'Joker': 0.0}\n",
      "\n"
     ]
    }
   ],
   "source": [
    "### Part I --> Time: O(n*k), Space: O(n), where \"n\" - number of movies, \"k\" - number of friends\n",
    "import sys\n",
    "import collections\n",
    "discussability = collections.Counter([film for sub in friends for film in sub]) #Space O(n)\n",
    "print(f'discussability: {discussability}', end = '\\n\\n', file=sys.stderr)\n",
    "\n",
    "### Part II --> Time: O(n*m), Space O(n), where \"n\" - number of movies, \"m\" - number of pairs of similar films\n",
    "sim_dict = {} #Space: O(n)\n",
    "\n",
    "idx = 0\n",
    "for pair in similarities: #Time O(m)\n",
    "    not_in_dict = True #Time O(1), Space: O(1)\n",
    "    \n",
    "    if pair[0] in sim_dict:  #Time O(n)\n",
    "        sim_dict[pair[1]] = sim_dict[pair[0]] #Time O(1)\n",
    "        not_in_dict = False #Time O(1)\n",
    "        \n",
    "    if pair[1] in sim_dict: #Time O(n)\n",
    "        sim_dict[pair[0]] = sim_dict[pair[1]] #Time O(1)\n",
    "        not_in_dict = False #Time O(1)\n",
    "            \n",
    "    if not_in_dict: #Time O(1)\n",
    "        sim_dict[pair[0]] = idx #Time O(1)\n",
    "        sim_dict[pair[1]] = idx #Time O(1)\n",
    "        idx += 1 #Time O(1)\n",
    "\n",
    "print(f'sim_dict: {sim_dict}', end = '\\n\\n', file=sys.stderr)\n",
    "\n",
    "### Part III  Time: O(n + n*m + n), Space: O(n), where \"n\" - number of movies, \"m\" - number of pairs of similar films\n",
    "watched_sim_count = {x:0 for x in movies} #Time: O(n), Space: O(n)\n",
    "\n",
    "for film in movies: #Time O(n)\n",
    "    count = 0 #Time O(1), Space: O(1)\n",
    "    for x, y in sim_dict.items(): #Time O(n)\n",
    "        if x != film and y == sim_dict[film]: #Time O(1)\n",
    "            watched_sim_count[film] += discussability[x] #Time O(1)\n",
    "            count += 1 #Time O(1)\n",
    "    den = watched_sim_count[film]/count #Time O(1), Space: O(1)\n",
    "    if den != 0: watched_sim_count[film] = discussability[film] / den #Time O(1)\n",
    "    else: watched_sim_count[film] = float(0) #Time O(1)\n",
    "\n",
    "print(f'watched_sim_count: {watched_sim_count}', end = '\\n\\n', file=sys.stderr)\n",
    "\n",
    "print('We recommend you this movie:', max(watched_sim_count, key=lambda x: watched_sim_count[x])) #Time O(n), Space: O(n)\n"
   ]
  },
  {
   "cell_type": "markdown",
   "id": "protecting-indianapolis",
   "metadata": {},
   "source": [
    "### The total time complexity of my algorithm is O(n * k + n * m + n + n * n + n) -> O(n * (k+m+1+n+1)) -> O(n * (k+m+n)),\n",
    "### where \"n\" - number of movies, \"k\" - number of friends, \"m\" - number of pairs of similar films\n",
    "\n",
    "### The total memory complexity of my algorithm is O(n) as it uses 3 dictionaries and some single variables,\n",
    "### where \"n\" - number of movies"
   ]
  }
 ],
 "metadata": {
  "kernelspec": {
   "display_name": "Python 3",
   "language": "python",
   "name": "python3"
  },
  "language_info": {
   "codemirror_mode": {
    "name": "ipython",
    "version": 3
   },
   "file_extension": ".py",
   "mimetype": "text/x-python",
   "name": "python",
   "nbconvert_exporter": "python",
   "pygments_lexer": "ipython3",
   "version": "3.8.5"
  }
 },
 "nbformat": 4,
 "nbformat_minor": 5
}
